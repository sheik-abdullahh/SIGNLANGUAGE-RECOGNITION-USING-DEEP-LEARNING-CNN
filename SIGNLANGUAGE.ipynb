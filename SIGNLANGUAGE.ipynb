{
 "cells": [
  {
   "cell_type": "code",
   "execution_count": null,
   "id": "526a614a-6cac-41bf-b395-219a058a4a21",
   "metadata": {},
   "outputs": [],
   "source": [
    "import numpy as np\n",
    "import pandas as pd\n",
    "import matplotlib.pyplot as plt\n",
    "import seaborn as sns"
   ]
  },
  {
   "cell_type": "code",
   "execution_count": null,
   "id": "bf04f328-719a-405e-a20e-0978afa9f80d",
   "metadata": {},
   "outputs": [],
   "source": [
    "#get our training and test data\n",
    "train = pd.read_csv('sign_mnist_train.csv')\n",
    "test = pd.read_csv('sign_mnist_test.csv')"
   ]
  },
  {
   "cell_type": "code",
   "execution_count": null,
   "id": "66ba93b5-cc13-425e-8e10-7b63acfa8b78",
   "metadata": {},
   "outputs": [],
   "source": [
    "\n",
    "train.head()\n"
   ]
  },
  {
   "cell_type": "code",
   "execution_count": null,
   "id": "fed01ce7-491c-43a6-9b62-0c169d480f5d",
   "metadata": {},
   "outputs": [],
   "source": [
    "#get our training labels\n",
    "labels=train['label'].values"
   ]
  },
  {
   "cell_type": "code",
   "execution_count": null,
   "id": "72403449-ec59-4ad1-9415-9563fd906247",
   "metadata": {},
   "outputs": [],
   "source": [
    "#view unique labels\n",
    "unique_val = np.array(labels)\n",
    "np.unique(unique_val)"
   ]
  },
  {
   "cell_type": "code",
   "execution_count": null,
   "id": "9366d1bd-31de-40c8-82b4-47a541ce13fc",
   "metadata": {},
   "outputs": [],
   "source": [
    "#plot the quantities in each class\n",
    "plt.figure(figsize=(18,8))\n",
    "sns.countplot(x=labels)"
   ]
  },
  {
   "cell_type": "code",
   "execution_count": null,
   "id": "064d70d2-cbe0-4e87-bd70-de3374524d6e",
   "metadata": {},
   "outputs": [],
   "source": [
    "train.drop('label',axis=1,inplace=True)"
   ]
  },
  {
   "cell_type": "code",
   "execution_count": null,
   "id": "68aa535f-aa23-4ef3-95a1-28f1825e424a",
   "metadata": {},
   "outputs": [],
   "source": [
    "#extract the image data from each row in our csv , remember its in a row of 784 columns\n",
    "images=train.values\n",
    "images=np.array([np.reshape(i,(28,28)) for i in images])\n",
    "images = np.array([i.flatten() for i in images])"
   ]
  },
  {
   "cell_type": "code",
   "execution_count": null,
   "id": "4c35060e-4593-401b-ae7e-cea2ed971f6c",
   "metadata": {},
   "outputs": [],
   "source": [
    "#hot one encode our labels\n",
    "from sklearn.preprocessing import LabelBinarizer\n",
    "\n",
    "# Initialize an instance of LabelBinarizer\n",
    "label_binarizer = LabelBinarizer()\n",
    "\n",
    "# Fit and transform the labels\n",
    "labels = label_binarizer.fit_transform(labels)"
   ]
  },
  {
   "cell_type": "code",
   "execution_count": null,
   "id": "eb1ea3c4-2a63-4082-ae4c-a502f2f5c482",
   "metadata": {},
   "outputs": [],
   "source": [
    "#view labels\n",
    "labels\n"
   ]
  },
  {
   "cell_type": "code",
   "execution_count": null,
   "id": "ffc83e6e-1294-4b74-a077-d36b34bcb283",
   "metadata": {},
   "outputs": [],
   "source": [
    "#inspect an image\n",
    "index=2\n",
    "print(labels[index])\n",
    "plt.imshow(images[index].reshape(28,28))"
   ]
  },
  {
   "cell_type": "code",
   "execution_count": null,
   "id": "ad266751-6e2d-4643-bc6f-c708342da908",
   "metadata": {},
   "outputs": [],
   "source": [
    "import cv2\n",
    "import numpy as np\n",
    "for i in range(0,10):\n",
    "    rand=np.random.randint(0,len(images))\n",
    "    input_im=images[rand]\n",
    "\n",
    "    sample=input_im.reshape(28,28).astype(np.uint8)\n",
    "    sample=cv2.resize(sample,None,fx=10,fy=10,interpolation=cv2.INTER_CUBIC)\n",
    "    cv2.imshow(\"sample image\",sample)\n",
    "    cv2.waitKey(0)\n",
    "cv2.destroyAllWindows()"
   ]
  },
  {
   "cell_type": "code",
   "execution_count": null,
   "id": "ff7b9bb0-1ae0-4b4e-8d35-9f05914a2161",
   "metadata": {},
   "outputs": [],
   "source": [
    "#split our data into xtrain,xtest,ytrain,ytest\n",
    "from sklearn.model_selection import train_test_split\n",
    "\n",
    "x_train,x_test,y_train, y_test = train_test_split(images,labels,test_size=0.3,random_state=101)"
   ]
  },
  {
   "cell_type": "code",
   "execution_count": null,
   "id": "a3290131-dc62-40c5-bfe0-3108435221f0",
   "metadata": {},
   "outputs": [],
   "source": [
    "#start loading our tensorflow modules and definer oru batch size etc\n",
    "from tensorflow.keras.models import Sequential\n",
    "from tensorflow.keras.layers import Dense,Conv2D ,MaxPooling2D,Flatten,Dropout\n",
    "\n",
    "batch_size = 128\n",
    "num_classes = 24\n",
    "epochs=10"
   ]
  },
  {
   "cell_type": "code",
   "execution_count": null,
   "id": "c1ac9e4f-8808-4dd5-bc53-d8266a582d3e",
   "metadata": {},
   "outputs": [],
   "source": [
    "#scale our images\n",
    "x_train = x_train / 255\n",
    "x_test = x_test / 255"
   ]
  },
  {
   "cell_type": "code",
   "execution_count": null,
   "id": "970097b2-1521-4ca3-bc1c-720ff8451188",
   "metadata": {},
   "outputs": [],
   "source": [
    "#reshape them into size required by Tf and keras\n",
    "x_train=x_train.reshape(x_train.shape[0],28,28,1)\n",
    "x_test=x_test.reshape(x_test.shape[0],28,28,1)\n",
    "\n",
    "plt.imshow(x_train[0].reshape(28,28))"
   ]
  },
  {
   "cell_type": "code",
   "execution_count": null,
   "id": "f4ed3366-a542-4e66-b51b-0e5f848cb8a5",
   "metadata": {},
   "outputs": [],
   "source": [
    "# Create our CNN Model\n",
    "\n",
    "from tensorflow.keras.layers import Conv2D, MaxPooling2D\n",
    "from tensorflow.keras import backend as K\n",
    "from tensorflow.keras.optimizers import Adam\n",
    "\n",
    "\n",
    "num_classes=24\n",
    "model = Sequential()\n",
    "model.add(Conv2D(64, kernel_size=(3,3), activation = 'relu', input_shape=(28, 28,1)))\n",
    "model.add(MaxPooling2D(pool_size = (2, 2)))\n",
    "\n",
    "model.add(Conv2D(64, kernel_size = (3, 3), activation = 'relu'))\n",
    "model.add(MaxPooling2D(pool_size = (2, 2)))\n",
    "\n",
    "\n",
    "model.add(Conv2D(64, kernel_size = (3, 3), activation = 'relu'))\n",
    "model.add(MaxPooling2D(pool_size = (2, 2)))\n",
    "\n",
    "\n",
    "model.add(Flatten())\n",
    "model.add(Dense(128, activation = 'relu'))\n",
    "model.add(Dropout(0.20))\n",
    "\n",
    "\n",
    "model.add(Dense(num_classes, activation = 'softmax'))"
   ]
  },
  {
   "cell_type": "code",
   "execution_count": null,
   "id": "759ef0b5-4c7f-49cd-be7d-12c250dbe13e",
   "metadata": {},
   "outputs": [],
   "source": [
    "#compile our model\n",
    "model.compile(loss='categorical_crossentropy',\n",
    "              optimizer= Adam(),\n",
    "              metrics=['accuracy'])"
   ]
  },
  {
   "cell_type": "code",
   "execution_count": null,
   "id": "70d04608-0af2-4966-a95f-287544c37c5d",
   "metadata": {},
   "outputs": [],
   "source": [
    "print(model.summary())"
   ]
  },
  {
   "cell_type": "code",
   "execution_count": null,
   "id": "2a915ec1-569c-47ae-921f-273e153c649c",
   "metadata": {},
   "outputs": [],
   "source": [
    "history = model.fit(x_train, y_train, validation_data = (x_test,y_test), epochs=epochs, batch_size=batch_size)"
   ]
  },
  {
   "cell_type": "code",
   "execution_count": null,
   "id": "adff2a30-d557-4667-9262-0a331354bc45",
   "metadata": {},
   "outputs": [],
   "source": [
    "# Save the model in the native Keras format\n",
    "model.save(\"sign_mnist_cnn_50_Epochs.keras.h5\")\n",
    "\n",
    "print(\"Model Saved\")"
   ]
  },
  {
   "cell_type": "code",
   "execution_count": null,
   "id": "7ae1d910-fd4b-4d1f-bfd2-c63378af4c1f",
   "metadata": {},
   "outputs": [],
   "source": [
    "# View our training history graphically\n",
    "\n",
    "plt.plot(history.history['accuracy'])\n",
    "\n",
    "plt.plot(history.history['val_accuracy'])\n",
    "\n",
    "plt.title(\"Accuracy\")\n",
    "\n",
    "plt.xlabel('epoch')\n",
    "\n",
    "plt.ylabel('accuracy')\n",
    "\n",
    "plt.legend(['train', 'test'])\n",
    "\n",
    "plt.show()"
   ]
  },
  {
   "cell_type": "code",
   "execution_count": null,
   "id": "2a8577ca-f4a3-4641-ad20-be1e5f8aa41f",
   "metadata": {},
   "outputs": [],
   "source": [
    "# Reshape our test data so that we can evaluate its performance on unseen data\n",
    "test_labels = test['label']\n",
    "test.drop('label', axis=1, inplace=True)\n",
    "\n",
    "test_images = test.values\n",
    "test_images = np.array([np.reshape(i, (28, 28)) for i in test_images])\n",
    "test_images = np.array([i.flatten() for i in test_images])\n",
    "\n",
    "test_labels = label_binarizer.fit_transform(test_labels)\n",
    "\n",
    "test_images = test_images.reshape(test_images.shape[0], 28, 28, 1)\n",
    "\n",
    "test_images.shape\n",
    "\n",
    "y_pred = model.predict(test_images)\n"
   ]
  },
  {
   "cell_type": "code",
   "execution_count": null,
   "id": "78220e40-daa8-48fd-8c27-183c22c3f4ca",
   "metadata": {},
   "outputs": [],
   "source": [
    "\n",
    "#get our accuracy score\n",
    "from sklearn.metrics import accuracy_score\n",
    "accuracy_score(test_labels,y_pred.round())"
   ]
  },
  {
   "cell_type": "code",
   "execution_count": null,
   "id": "25af870b-fefb-4440-b5ac-e382188ec75f",
   "metadata": {},
   "outputs": [],
   "source": [
    "# Create function to match Label to letter\n",
    "def getLetter(result):\n",
    "    classLabels = {0: 'A',\n",
    "                   1: 'B',\n",
    "                   2: 'C',\n",
    "                   3: 'D',\n",
    "                   4: 'E',\n",
    "                   5: 'F',\n",
    "                   6: 'G',\n",
    "                   7: 'H',\n",
    "                   8: 'I',\n",
    "                   9: 'K',\n",
    "                   10: 'L',\n",
    "                   11: 'M',\n",
    "                   12: 'N',\n",
    "                   13: '0',\n",
    "                   14: 'P',\n",
    "                   15: 'Q',\n",
    "                   16: 'R',\n",
    "                   17: '5',\n",
    "                   18: 'T',\n",
    "                   19: 'U',\n",
    "                   20: 'V',\n",
    "                   21: 'W',\n",
    "                   22: 'X',\n",
    "                   23: 'Y'}\n",
    "\n",
    "    try:\n",
    "        res = int(result)\n",
    "        return classLabels[res]\n",
    "    except:\n",
    "        return \"Error\""
   ]
  },
  {
   "cell_type": "code",
   "execution_count": null,
   "id": "8534b7f6-7d2e-405b-9899-e147ca0f7e14",
   "metadata": {},
   "outputs": [],
   "source": [
    "#TEST ON ACTUAL WEBCAM INPUT"
   ]
  },
  {
   "cell_type": "code",
   "execution_count": null,
   "id": "f16f6a7f-07c8-45dd-96d5-7f4d3c571c77",
   "metadata": {},
   "outputs": [],
   "source": [
    "#TEST ON ACTUAL WEBCAM INPUT\n",
    "cap = cv2.VideoCapture(0)\n",
    "\n",
    "while True:\n",
    "    ret, frame = cap.read()\n",
    "    # Define region of interest\n",
    "    roi = frame[100:400, 320:620]\n",
    "    cv2.imshow('roi', roi)\n",
    "    roi = cv2.cvtColor(roi, cv2.COLOR_BGR2GRAY)\n",
    "    roi = cv2.resize(roi, (28, 28), interpolation=cv2.INTER_AREA)\n",
    "\n",
    "    cv2.imshow('roi scaled and gray', roi)\n",
    "    copy = frame.copy()\n",
    "    cv2.rectangle(copy, (320, 100), (620, 400), (255, 0, 0), 5)\n",
    "\n",
    "    roi = roi.reshape(1, 28, 28, 1)\n",
    "\n",
    "    result = str(model.predict_classes(roi, 1,  verbose = 0)[0])\n",
    "    cv2.putText(copy, getLetter(result), (300, 100), cv2.FONT_HERSHEY_COMPLEX, 2, (0, 255, 0), 2)\n",
    "    cv2.imshow('frame', copy)\n",
    "\n",
    "    if cv2.waitKey(1) == 13:\n",
    "        break\n",
    "\n",
    "cap.release()\n",
    "cv2.destroyAllWindows()"
   ]
  },
  {
   "cell_type": "code",
   "execution_count": null,
   "id": "94cb1673-1718-4405-bfac-9775f8d0d478",
   "metadata": {},
   "outputs": [],
   "source": []
  }
 ],
 "metadata": {
  "kernelspec": {
   "display_name": "Python 3 (ipykernel)",
   "language": "python",
   "name": "python3"
  },
  "language_info": {
   "codemirror_mode": {
    "name": "ipython",
    "version": 3
   },
   "file_extension": ".py",
   "mimetype": "text/x-python",
   "name": "python",
   "nbconvert_exporter": "python",
   "pygments_lexer": "ipython3",
   "version": "3.11.4"
  }
 },
 "nbformat": 4,
 "nbformat_minor": 5
}
